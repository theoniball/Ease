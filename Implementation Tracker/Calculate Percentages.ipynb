{
 "cells": [
  {
   "cell_type": "code",
   "execution_count": 3,
   "metadata": {
    "collapsed": false
   },
   "outputs": [
    {
     "name": "stderr",
     "output_type": "stream",
     "text": [
      "C:\\Users\\Peter Woo\\Anaconda3\\lib\\site-packages\\pandas\\tools\\merge.py:205: UserWarning: merging between different levels can give an unintended result (2 levels on the left, 1 on the right)\n",
      "  warnings.warn(msg, UserWarning)\n"
     ]
    },
    {
     "data": {
      "text/html": [
       "<div>\n",
       "<table border=\"1\" class=\"dataframe\">\n",
       "  <thead>\n",
       "    <tr style=\"text-align: right;\">\n",
       "      <th></th>\n",
       "      <th></th>\n",
       "      <th>Status Count</th>\n",
       "      <th>Parent task</th>\n",
       "      <th>Percent of Total</th>\n",
       "    </tr>\n",
       "    <tr>\n",
       "      <th>Folder</th>\n",
       "      <th>Status</th>\n",
       "      <th></th>\n",
       "      <th></th>\n",
       "      <th></th>\n",
       "    </tr>\n",
       "  </thead>\n",
       "  <tbody>\n",
       "    <tr>\n",
       "      <th>Glendale Heights - Implementation</th>\n",
       "      <th>Active</th>\n",
       "      <td>23</td>\n",
       "      <td>23</td>\n",
       "      <td>100.0%</td>\n",
       "    </tr>\n",
       "    <tr>\n",
       "      <th>Glendale Heights - Trial</th>\n",
       "      <th>Completed</th>\n",
       "      <td>13</td>\n",
       "      <td>13</td>\n",
       "      <td>100.0%</td>\n",
       "    </tr>\n",
       "  </tbody>\n",
       "</table>\n",
       "</div>"
      ],
      "text/plain": [
       "                                             Status Count  Parent task  \\\n",
       "Folder                            Status                                 \n",
       "Glendale Heights - Implementation Active               23           23   \n",
       "Glendale Heights - Trial          Completed            13           13   \n",
       "\n",
       "                                            Percent of Total  \n",
       "Folder                            Status                      \n",
       "Glendale Heights - Implementation Active              100.0%  \n",
       "Glendale Heights - Trial          Completed           100.0%  "
      ]
     },
     "execution_count": 3,
     "metadata": {},
     "output_type": "execute_result"
    }
   ],
   "source": [
    "import pandas as pd\n",
    "import seaborn as sns\n",
    "%matplotlib inline\n",
    "#\n",
    "# Update the first item in quotes with the name of the\n",
    "# excel file you want percentages calculated for. Do not\n",
    "# include the filetype extension.\n",
    "#\n",
    "file = 'Glendale Heights (export)' + '.xls'\n",
    "#\n",
    "#\n",
    "df = pd.read_excel(file)\n",
    "newdf = df.ix[:,['Folder','Parent task','Status']]\n",
    "newdf['Folder'] = newdf['Folder'].map(lambda x: x.lstrip('/').rstrip('/'))\n",
    "newdf = newdf.dropna()\n",
    "aggregations = {\n",
    "    'Status':{\n",
    "        'Status Count': 'count',\n",
    "    },\n",
    "}\n",
    "totals = newdf.groupby(['Folder']).count()\n",
    "grouped = newdf.groupby(['Folder', 'Status']).agg(aggregations)\n",
    "new = grouped.join(totals)\n",
    "new = new.drop(new.columns[2],axis=1)\n",
    "new.rename(columns={('Status', 'Status Count'):'Status Count'}, inplace=True)\n",
    "new['Percent of Total'] = ((new[('Status Count')]/new['Parent task'])*100).round(2).astype(str) + '%'\n",
    "new"
   ]
  },
  {
   "cell_type": "code",
   "execution_count": null,
   "metadata": {
    "collapsed": true
   },
   "outputs": [],
   "source": []
  }
 ],
 "metadata": {
  "anaconda-cloud": {},
  "kernelspec": {
   "display_name": "Python [Root]",
   "language": "python",
   "name": "Python [Root]"
  },
  "language_info": {
   "codemirror_mode": {
    "name": "ipython",
    "version": 3
   },
   "file_extension": ".py",
   "mimetype": "text/x-python",
   "name": "python",
   "nbconvert_exporter": "python",
   "pygments_lexer": "ipython3",
   "version": "3.5.2"
  }
 },
 "nbformat": 4,
 "nbformat_minor": 0
}
